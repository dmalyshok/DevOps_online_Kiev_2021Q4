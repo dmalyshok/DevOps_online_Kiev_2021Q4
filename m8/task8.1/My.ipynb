{
 "cells": [
  {
   "cell_type": "code",
   "execution_count": 1,
   "id": "75f1be77",
   "metadata": {},
   "outputs": [
    {
     "name": "stdout",
     "output_type": "stream",
     "text": [
      "Hello world!\n"
     ]
    }
   ],
   "source": [
    "print ('Hello world!')"
   ]
  },
  {
   "cell_type": "code",
   "execution_count": 1,
   "id": "71a490da",
   "metadata": {},
   "outputs": [
    {
     "data": {
      "text/plain": [
       "False"
      ]
     },
     "execution_count": 1,
     "metadata": {},
     "output_type": "execute_result"
    }
   ],
   "source": [
    "7%2==0"
   ]
  },
  {
   "cell_type": "code",
   "execution_count": 2,
   "id": "daf7c7c7",
   "metadata": {},
   "outputs": [
    {
     "data": {
      "text/plain": [
       "16"
      ]
     },
     "execution_count": 2,
     "metadata": {},
     "output_type": "execute_result"
    }
   ],
   "source": [
    "2*2*2*2"
   ]
  },
  {
   "cell_type": "code",
   "execution_count": 3,
   "id": "8c301512",
   "metadata": {},
   "outputs": [
    {
     "data": {
      "text/plain": [
       "16"
      ]
     },
     "execution_count": 3,
     "metadata": {},
     "output_type": "execute_result"
    }
   ],
   "source": [
    "2**4"
   ]
  },
  {
   "cell_type": "code",
   "execution_count": 4,
   "id": "73711761",
   "metadata": {},
   "outputs": [
    {
     "data": {
      "text/plain": [
       "6"
      ]
     },
     "execution_count": 4,
     "metadata": {},
     "output_type": "execute_result"
    }
   ],
   "source": [
    "2+2*2"
   ]
  },
  {
   "cell_type": "code",
   "execution_count": 5,
   "id": "c2943884",
   "metadata": {},
   "outputs": [
    {
     "data": {
      "text/plain": [
       "8"
      ]
     },
     "execution_count": 5,
     "metadata": {},
     "output_type": "execute_result"
    }
   ],
   "source": [
    "(2+2)*2"
   ]
  },
  {
   "cell_type": "code",
   "execution_count": 6,
   "id": "038b11cb",
   "metadata": {},
   "outputs": [
    {
     "data": {
      "text/plain": [
       "17.0"
      ]
     },
     "execution_count": 6,
     "metadata": {},
     "output_type": "execute_result"
    }
   ],
   "source": [
    "(2+2)*2+3*(6/2)"
   ]
  },
  {
   "cell_type": "code",
   "execution_count": 7,
   "id": "c9456186",
   "metadata": {},
   "outputs": [
    {
     "ename": "NameError",
     "evalue": "name 'x' is not defined",
     "output_type": "error",
     "traceback": [
      "\u001b[1;31m---------------------------------------------------------------------------\u001b[0m",
      "\u001b[1;31mNameError\u001b[0m                                 Traceback (most recent call last)",
      "\u001b[1;32mC:\\Users\\DMITRY~1.MAL\\AppData\\Local\\Temp/ipykernel_18592/3154113821.py\u001b[0m in \u001b[0;36m<module>\u001b[1;34m\u001b[0m\n\u001b[1;32m----> 1\u001b[1;33m \u001b[0mprint\u001b[0m\u001b[1;33m(\u001b[0m\u001b[0mx\u001b[0m\u001b[1;33m)\u001b[0m\u001b[1;33m\u001b[0m\u001b[1;33m\u001b[0m\u001b[0m\n\u001b[0m\u001b[0;32m      2\u001b[0m \u001b[0mx\u001b[0m\u001b[1;33m=\u001b[0m\u001b[0mx\u001b[0m\u001b[1;33m+\u001b[0m\u001b[0mx\u001b[0m\u001b[1;33m\u001b[0m\u001b[1;33m\u001b[0m\u001b[0m\n\u001b[0;32m      3\u001b[0m \u001b[0mprint\u001b[0m\u001b[1;33m(\u001b[0m\u001b[0mx\u001b[0m\u001b[1;33m)\u001b[0m\u001b[1;33m\u001b[0m\u001b[1;33m\u001b[0m\u001b[0m\n",
      "\u001b[1;31mNameError\u001b[0m: name 'x' is not defined"
     ]
    }
   ],
   "source": [
    "print(x)\n",
    "x=x+x\n",
    "print(x)"
   ]
  },
  {
   "cell_type": "code",
   "execution_count": 8,
   "id": "f3592723",
   "metadata": {},
   "outputs": [],
   "source": [
    "x=5"
   ]
  },
  {
   "cell_type": "code",
   "execution_count": 9,
   "id": "0439115f",
   "metadata": {},
   "outputs": [
    {
     "name": "stdout",
     "output_type": "stream",
     "text": [
      "5\n",
      "10\n"
     ]
    }
   ],
   "source": [
    "print(x)\n",
    "x=x+x\n",
    "print(x)"
   ]
  },
  {
   "cell_type": "code",
   "execution_count": 10,
   "id": "af00b671",
   "metadata": {},
   "outputs": [
    {
     "data": {
      "text/plain": [
       "int"
      ]
     },
     "execution_count": 10,
     "metadata": {},
     "output_type": "execute_result"
    }
   ],
   "source": [
    "type(x)"
   ]
  },
  {
   "cell_type": "code",
   "execution_count": 11,
   "id": "77d5572c",
   "metadata": {},
   "outputs": [
    {
     "data": {
      "text/plain": [
       "float"
      ]
     },
     "execution_count": 11,
     "metadata": {},
     "output_type": "execute_result"
    }
   ],
   "source": [
    "x=3.14\n",
    "type(x)"
   ]
  },
  {
   "cell_type": "code",
   "execution_count": 12,
   "id": "f9173374",
   "metadata": {},
   "outputs": [],
   "source": [
    "z='abc'"
   ]
  },
  {
   "cell_type": "code",
   "execution_count": 13,
   "id": "9e0b7943",
   "metadata": {},
   "outputs": [
    {
     "data": {
      "text/plain": [
       "'abc'"
      ]
     },
     "execution_count": 13,
     "metadata": {},
     "output_type": "execute_result"
    }
   ],
   "source": [
    "z"
   ]
  },
  {
   "cell_type": "code",
   "execution_count": 14,
   "id": "ea0b00f1",
   "metadata": {},
   "outputs": [
    {
     "ename": "TypeError",
     "evalue": "unsupported operand type(s) for +: 'float' and 'str'",
     "output_type": "error",
     "traceback": [
      "\u001b[1;31m---------------------------------------------------------------------------\u001b[0m",
      "\u001b[1;31mTypeError\u001b[0m                                 Traceback (most recent call last)",
      "\u001b[1;32mC:\\Users\\DMITRY~1.MAL\\AppData\\Local\\Temp/ipykernel_18592/2335943885.py\u001b[0m in \u001b[0;36m<module>\u001b[1;34m\u001b[0m\n\u001b[1;32m----> 1\u001b[1;33m \u001b[0mx\u001b[0m\u001b[1;33m+\u001b[0m\u001b[0mz\u001b[0m\u001b[1;33m\u001b[0m\u001b[1;33m\u001b[0m\u001b[0m\n\u001b[0m",
      "\u001b[1;31mTypeError\u001b[0m: unsupported operand type(s) for +: 'float' and 'str'"
     ]
    }
   ],
   "source": [
    "x+z"
   ]
  },
  {
   "cell_type": "code",
   "execution_count": 15,
   "id": "4eb3dacb",
   "metadata": {},
   "outputs": [
    {
     "data": {
      "text/plain": [
       "\"i'm system engineer and 'strong' developer\""
      ]
     },
     "execution_count": 15,
     "metadata": {},
     "output_type": "execute_result"
    }
   ],
   "source": [
    "\"i'm system engineer and 'strong' developer\""
   ]
  },
  {
   "cell_type": "code",
   "execution_count": 16,
   "id": "40621f84",
   "metadata": {},
   "outputs": [
    {
     "name": "stdout",
     "output_type": "stream",
     "text": [
      "i'm system engineer and 'strong' developer\n"
     ]
    }
   ],
   "source": [
    "print (\"i'm system engineer and 'strong' developer\")"
   ]
  },
  {
   "cell_type": "code",
   "execution_count": 17,
   "id": "69712e7e",
   "metadata": {},
   "outputs": [
    {
     "data": {
      "text/plain": [
       "'i\"m system engineer and \"strong\" developer'"
      ]
     },
     "execution_count": 17,
     "metadata": {},
     "output_type": "execute_result"
    }
   ],
   "source": [
    "'i\"m system engineer and \"strong\" developer'"
   ]
  },
  {
   "cell_type": "code",
   "execution_count": 18,
   "id": "82f93824",
   "metadata": {},
   "outputs": [
    {
     "name": "stdout",
     "output_type": "stream",
     "text": [
      "i\"m system engineer and \"strong\" developer\n"
     ]
    }
   ],
   "source": [
    "print ('i\"m system engineer and \"strong\" developer')"
   ]
  },
  {
   "cell_type": "code",
   "execution_count": 19,
   "id": "53c1e288",
   "metadata": {},
   "outputs": [
    {
     "ename": "SyntaxError",
     "evalue": "invalid syntax (Temp/ipykernel_18592/2333079880.py, line 1)",
     "output_type": "error",
     "traceback": [
      "\u001b[1;36m  File \u001b[1;32m\"C:\\Users\\DMITRY~1.MAL\\AppData\\Local\\Temp/ipykernel_18592/2333079880.py\"\u001b[1;36m, line \u001b[1;32m1\u001b[0m\n\u001b[1;33m    \"i'm system engineer and \"strong\" developer\"\u001b[0m\n\u001b[1;37m                              ^\u001b[0m\n\u001b[1;31mSyntaxError\u001b[0m\u001b[1;31m:\u001b[0m invalid syntax\n"
     ]
    }
   ],
   "source": [
    "\"i'm system engineer and \"strong\" developer\""
   ]
  },
  {
   "cell_type": "code",
   "execution_count": 20,
   "id": "c30ec220",
   "metadata": {},
   "outputs": [
    {
     "name": "stdout",
     "output_type": "stream",
     "text": [
      "i\"m system engineer and \"strong\" developer\n"
     ]
    }
   ],
   "source": [
    "print ('i\"m system engineer and \\\"strong\\\" developer')"
   ]
  },
  {
   "cell_type": "code",
   "execution_count": 21,
   "id": "91e77ed7",
   "metadata": {},
   "outputs": [
    {
     "name": "stdout",
     "output_type": "stream",
     "text": [
      "C:\\users\\user\n"
     ]
    }
   ],
   "source": [
    "print(\"C:\\\\users\\\\user\")"
   ]
  },
  {
   "cell_type": "code",
   "execution_count": 22,
   "id": "2892ffc9",
   "metadata": {},
   "outputs": [
    {
     "name": "stdout",
     "output_type": "stream",
     "text": [
      "i'm system engineer and \n",
      "i'm a developer\n"
     ]
    }
   ],
   "source": [
    "print(\"i'm system engineer and \\ni'm a developer\")"
   ]
  },
  {
   "cell_type": "code",
   "execution_count": 23,
   "id": "f637596b",
   "metadata": {},
   "outputs": [],
   "source": [
    "strarray = \"i'm system engineer and i'm a developer\""
   ]
  },
  {
   "cell_type": "code",
   "execution_count": 24,
   "id": "7af04bb0",
   "metadata": {},
   "outputs": [
    {
     "name": "stdout",
     "output_type": "stream",
     "text": [
      "i'm system engineer and i'm a developer\n"
     ]
    }
   ],
   "source": [
    "print (strarray)"
   ]
  },
  {
   "cell_type": "code",
   "execution_count": 25,
   "id": "eec1ecf8",
   "metadata": {},
   "outputs": [
    {
     "name": "stdout",
     "output_type": "stream",
     "text": [
      "i\n"
     ]
    }
   ],
   "source": [
    "print (strarray[0])"
   ]
  },
  {
   "cell_type": "code",
   "execution_count": 26,
   "id": "342c0a97",
   "metadata": {},
   "outputs": [
    {
     "name": "stdout",
     "output_type": "stream",
     "text": [
      "r\n"
     ]
    }
   ],
   "source": [
    "print (strarray[-1])"
   ]
  },
  {
   "cell_type": "code",
   "execution_count": 27,
   "id": "cbaf71aa",
   "metadata": {},
   "outputs": [
    {
     "name": "stdout",
     "output_type": "stream",
     "text": [
      "m\n"
     ]
    }
   ],
   "source": [
    "print (strarray[2])"
   ]
  },
  {
   "cell_type": "code",
   "execution_count": 29,
   "id": "8177cb94",
   "metadata": {},
   "outputs": [],
   "source": [
    "new_strarray = \"I\"+strarray[1:24]+\"I\"+strarray[-14:]"
   ]
  },
  {
   "cell_type": "code",
   "execution_count": 30,
   "id": "c3bf828a",
   "metadata": {},
   "outputs": [
    {
     "name": "stdout",
     "output_type": "stream",
     "text": [
      "I'm system engineer and I'm a developer\n"
     ]
    }
   ],
   "source": [
    "print (new_strarray)"
   ]
  },
  {
   "cell_type": "code",
   "execution_count": 31,
   "id": "0e7e841d",
   "metadata": {},
   "outputs": [
    {
     "name": "stdout",
     "output_type": "stream",
     "text": [
      "Writing testfile.txt\n"
     ]
    }
   ],
   "source": [
    "%%writefile testfile.txt\n",
    "Name|Phone\n",
    "Vasya;099\n",
    "Kolya;123\n",
    "Olya;456"
   ]
  },
  {
   "cell_type": "code",
   "execution_count": 33,
   "id": "4a164986",
   "metadata": {},
   "outputs": [
    {
     "name": "stdout",
     "output_type": "stream",
     "text": [
      "Name|Phone\n",
      "Vasya;099\n",
      "Kolya;123\n",
      "Olya;456\n",
      "Vera;9933\n"
     ]
    }
   ],
   "source": [
    "with open(\"testfile.txt\", mode='r+') as test_file:\n",
    "    test_file.seek(0, 2)\n",
    "    test_file.write('Vera;9933')\n",
    "    test_file.seek(0)\n",
    "    print(test_file.read())"
   ]
  },
  {
   "cell_type": "code",
   "execution_count": 34,
   "id": "d11e8609",
   "metadata": {},
   "outputs": [
    {
     "data": {
      "text/plain": [
       "'C:\\\\Users\\\\dmitry.malyshok\\\\Desktop\\\\python'"
      ]
     },
     "execution_count": 34,
     "metadata": {},
     "output_type": "execute_result"
    }
   ],
   "source": [
    "pwd"
   ]
  },
  {
   "cell_type": "code",
   "execution_count": 35,
   "id": "f017fede",
   "metadata": {},
   "outputs": [
    {
     "name": "stdout",
     "output_type": "stream",
     "text": [
      "Overwriting testfile.txt\n"
     ]
    }
   ],
   "source": [
    "%%writefile testfile.txt\n",
    "Name|Phone\n",
    "Vasya;099\n",
    "Kolya;123\n",
    "Olya;456"
   ]
  },
  {
   "cell_type": "code",
   "execution_count": 36,
   "id": "cb2b5c13",
   "metadata": {},
   "outputs": [],
   "source": [
    "file=open('testfile.txt')"
   ]
  },
  {
   "cell_type": "code",
   "execution_count": 37,
   "id": "199efd1c",
   "metadata": {},
   "outputs": [
    {
     "data": {
      "text/plain": [
       "<_io.TextIOWrapper name='testfile.txt' mode='r' encoding='cp1251'>"
      ]
     },
     "execution_count": 37,
     "metadata": {},
     "output_type": "execute_result"
    }
   ],
   "source": [
    "file"
   ]
  },
  {
   "cell_type": "code",
   "execution_count": 38,
   "id": "246bc4a8",
   "metadata": {},
   "outputs": [
    {
     "data": {
      "text/plain": [
       "'Name|Phone\\nVasya;099\\nKolya;123\\nOlya;456\\n'"
      ]
     },
     "execution_count": 38,
     "metadata": {},
     "output_type": "execute_result"
    }
   ],
   "source": [
    "data=file.read()\n",
    "data"
   ]
  },
  {
   "cell_type": "code",
   "execution_count": 39,
   "id": "a722537a",
   "metadata": {},
   "outputs": [
    {
     "name": "stdout",
     "output_type": "stream",
     "text": [
      "Name|Phone\n",
      "Vasya;099\n",
      "Kolya;123\n",
      "Olya;456\n",
      "\n"
     ]
    }
   ],
   "source": [
    "print(data)"
   ]
  },
  {
   "cell_type": "code",
   "execution_count": 40,
   "id": "000784eb",
   "metadata": {},
   "outputs": [
    {
     "name": "stdout",
     "output_type": "stream",
     "text": [
      "Name|Phone\n",
      "Vasya;099\n",
      "Kolya;123\n",
      "Olya;456\n",
      "\n"
     ]
    }
   ],
   "source": [
    "file.seek(0)\n",
    "print(file.read())"
   ]
  },
  {
   "cell_type": "code",
   "execution_count": 42,
   "id": "114830f8",
   "metadata": {},
   "outputs": [
    {
     "name": "stdout",
     "output_type": "stream",
     "text": [
      "[1, 2, 3, 4, 5, 6, 7, 8, 9, 10]\n"
     ]
    }
   ],
   "source": [
    "numbers=[1,2,3,4,5,6,7,8,9,10]\n",
    "print (numbers)"
   ]
  },
  {
   "cell_type": "code",
   "execution_count": 43,
   "id": "082ab2ca",
   "metadata": {},
   "outputs": [
    {
     "name": "stdout",
     "output_type": "stream",
     "text": [
      "1\n",
      "2\n",
      "3\n",
      "4\n",
      "5\n",
      "6\n",
      "7\n",
      "8\n",
      "9\n",
      "10\n"
     ]
    }
   ],
   "source": [
    "for i in numbers:\n",
    "    print(i)"
   ]
  },
  {
   "cell_type": "code",
   "execution_count": 44,
   "id": "b901c2fc",
   "metadata": {},
   "outputs": [
    {
     "name": "stdout",
     "output_type": "stream",
     "text": [
      "x equals 0\n",
      "x equals 1\n",
      "x equals 2\n",
      "condition is not met\n"
     ]
    }
   ],
   "source": [
    "x=0\n",
    "while x < 3:\n",
    "    print(f'x equals {x}')\n",
    "    x+=1\n",
    "else:\n",
    "    print('condition is not met')"
   ]
  },
  {
   "cell_type": "code",
   "execution_count": 45,
   "id": "7dc87d99",
   "metadata": {},
   "outputs": [
    {
     "data": {
      "text/plain": [
       "['h', 'e', 'l', 'l', 'o', ',', ' ', 'w', 'o', 'r', 'l', 'd']"
      ]
     },
     "execution_count": 45,
     "metadata": {},
     "output_type": "execute_result"
    }
   ],
   "source": [
    "test = 'hello, world'\n",
    "chars = []\n",
    "for i in test:\n",
    "    chars.append(i)\n",
    "chars"
   ]
  },
  {
   "cell_type": "code",
   "execution_count": 46,
   "id": "cb397d2e",
   "metadata": {},
   "outputs": [
    {
     "data": {
      "text/plain": [
       "['h', 'e', 'l', 'l', 'o', ',', ' ', 'w', 'o', 'r', 'l', 'd']"
      ]
     },
     "execution_count": 46,
     "metadata": {},
     "output_type": "execute_result"
    }
   ],
   "source": [
    "chars = [i for i in test]\n",
    "chars"
   ]
  },
  {
   "cell_type": "code",
   "execution_count": 47,
   "id": "a0a14ba2",
   "metadata": {},
   "outputs": [
    {
     "data": {
      "text/plain": [
       "[1, 2, 3, 4, 5, 6, 7, 8, 9, 10]"
      ]
     },
     "execution_count": 47,
     "metadata": {},
     "output_type": "execute_result"
    }
   ],
   "source": [
    "numbers=[1,2,3,4,5,6,7,8,9,10]\n",
    "numbers"
   ]
  },
  {
   "cell_type": "code",
   "execution_count": 48,
   "id": "bdedea6e",
   "metadata": {},
   "outputs": [
    {
     "data": {
      "text/plain": [
       "[0, 1, 2, 3, 4, 5, 6, 7, 8, 9, 10]"
      ]
     },
     "execution_count": 48,
     "metadata": {},
     "output_type": "execute_result"
    }
   ],
   "source": [
    "numbers=[n for n in range(0,11)]\n",
    "numbers"
   ]
  },
  {
   "cell_type": "code",
   "execution_count": null,
   "id": "6a9b1eab",
   "metadata": {},
   "outputs": [],
   "source": []
  }
 ],
 "metadata": {
  "kernelspec": {
   "display_name": "Python 3 (ipykernel)",
   "language": "python",
   "name": "python3"
  },
  "language_info": {
   "codemirror_mode": {
    "name": "ipython",
    "version": 3
   },
   "file_extension": ".py",
   "mimetype": "text/x-python",
   "name": "python",
   "nbconvert_exporter": "python",
   "pygments_lexer": "ipython3",
   "version": "3.10.1"
  }
 },
 "nbformat": 4,
 "nbformat_minor": 5
}
